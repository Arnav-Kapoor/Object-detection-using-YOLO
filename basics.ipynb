{
 "cells": [
  {
   "cell_type": "code",
   "execution_count": 9,
   "id": "5391e7e7-ba20-414c-85c2-01b3c05331a4",
   "metadata": {},
   "outputs": [],
   "source": [
    "#requirements\n",
    "# !pip install ultralytics==8.0.26"
   ]
  },
  {
   "cell_type": "code",
   "execution_count": 13,
   "id": "bfa81761-6cf1-4691-ac50-5c2e489675e7",
   "metadata": {},
   "outputs": [],
   "source": [
    "# !pip install opencv-python\n",
    "# !pip install PyYAML\n",
    "# !pip install requests\n",
    "# !pip install scipy\n",
    "# !pip install scikit-image"
   ]
  },
  {
   "cell_type": "markdown",
   "id": "12940e35-272e-43f8-b86c-f3bba6f382ba",
   "metadata": {},
   "source": [
    "### YOLO Basics"
   ]
  },
  {
   "cell_type": "code",
   "execution_count": 2,
   "id": "f1233a4f-e792-4392-bd1b-723c1520b50a",
   "metadata": {},
   "outputs": [],
   "source": [
    "from ultralytics import YOLO\n",
    "import cv2"
   ]
  },
  {
   "cell_type": "code",
   "execution_count": 3,
   "id": "b8b19fb6-c9ba-4a5d-a003-012a7eb4f899",
   "metadata": {},
   "outputs": [],
   "source": [
    "model=YOLO('./YOLO weights/yolov8n.pt') #nano,medium,large weights"
   ]
  },
  {
   "cell_type": "code",
   "execution_count": 5,
   "id": "6960fa81-e003-462d-a8d0-4cd4ef069d3b",
   "metadata": {},
   "outputs": [
    {
     "name": "stderr",
     "output_type": "stream",
     "text": [
      "\n",
      "image 1/1 D:\\yolo object detection\\images\\bikes.jpg: 384x640 12 motorcycles, 111.6ms\n",
      "Speed: 2.0ms pre-process, 111.6ms inference, 0.0ms postprocess per image at shape (1, 3, 640, 640)\n"
     ]
    }
   ],
   "source": [
    "while True:\n",
    "    results=model('images/bikes.jpg',show=True)\n",
    "    if cv2.waitKey(0):\n",
    "        break"
   ]
  },
  {
   "cell_type": "markdown",
   "id": "a016ca8d-5aad-4c20-b36c-3ec89f6822c6",
   "metadata": {},
   "source": [
    "#### using webcam"
   ]
  },
  {
   "cell_type": "code",
   "execution_count": 14,
   "id": "8dde6804-0b65-42b9-b090-6ba10a434ffd",
   "metadata": {},
   "outputs": [
    {
     "name": "stderr",
     "output_type": "stream",
     "text": [
      "Ultralytics YOLOv8.0.26  Python-3.10.8 torch-2.0.0+cpu CPU\n",
      "YOLOv8n summary (fused): 168 layers, 3151904 parameters, 0 gradients, 8.7 GFLOPs\n",
      "\n",
      "0: 480x640 1 person, 191.1ms\n",
      "Speed: 1.0ms pre-process, 191.1ms inference, 2.0ms postprocess per image at shape (1, 3, 640, 640)\n",
      "\n",
      "0: 480x640 1 person, 200.1ms\n",
      "Speed: 3.1ms pre-process, 200.1ms inference, 4.0ms postprocess per image at shape (1, 3, 640, 640)\n",
      "\n",
      "0: 480x640 1 person, 190.6ms\n",
      "Speed: 1.0ms pre-process, 190.6ms inference, 3.5ms postprocess per image at shape (1, 3, 640, 640)\n",
      "\n",
      "0: 480x640 1 person, 205.6ms\n",
      "Speed: 2.0ms pre-process, 205.6ms inference, 3.0ms postprocess per image at shape (1, 3, 640, 640)\n",
      "\n",
      "0: 480x640 1 person, 196.1ms\n",
      "Speed: 1.4ms pre-process, 196.1ms inference, 3.0ms postprocess per image at shape (1, 3, 640, 640)\n",
      "\n",
      "0: 480x640 1 person, 200.1ms\n",
      "Speed: 3.0ms pre-process, 200.1ms inference, 2.0ms postprocess per image at shape (1, 3, 640, 640)\n",
      "\n",
      "0: 480x640 2 persons, 205.4ms\n",
      "Speed: 3.0ms pre-process, 205.4ms inference, 2.0ms postprocess per image at shape (1, 3, 640, 640)\n",
      "\n",
      "0: 480x640 1 person, 190.0ms\n",
      "Speed: 1.0ms pre-process, 190.0ms inference, 3.0ms postprocess per image at shape (1, 3, 640, 640)\n",
      "\n",
      "0: 480x640 1 person, 188.3ms\n",
      "Speed: 1.0ms pre-process, 188.3ms inference, 3.0ms postprocess per image at shape (1, 3, 640, 640)\n"
     ]
    }
   ],
   "source": [
    "import math\n",
    "\n",
    "cap=cv2.VideoCapture(0)\n",
    "cap.set(3,640)\n",
    "cap.set(4,480)\n",
    "\n",
    "# classNames=[\"person\",\"bicycle\", \"car\", \"motorbike\", \"aeroplane\", \"bus\", \"train\", \"truck\", \"boat\"\n",
    "# \"traffic light\", \"fire hydrant\", \"stop sign\", \"parking meter\", \"bench\"\n",
    "# \"cat\", \"dog\", \"horse\", \"sheep\", \"cow\", \"elephant\", \"bear\", \"zebra\", \"giraffe\"]\n",
    "\n",
    "##some more\n",
    "# backpack, umbrella, handbag, tie, suitcase, frisbee, skis, snowboard, sports ball, kite, baseball bat, baseball glove, skateboard, surfboard, tennis racket\n",
    "# bottle, wine glass, cup, fork, knife, spoon, bowl\n",
    "# banana, apple, sandwich, orange, broccoli, carrot, hot dog, pizza, donut, cake\n",
    "# chair, sofa, pottedplant, bed, diningtable, toilet, tvmonitor, laptop, mouse, remote, keyboard, cell phone, microwave, oven, toaster, sink, refrigerator, book, clock, vase, scissors, teddy bear, hair drier, toothbrush}\n",
    "\n",
    "model=YOLO(\"./YOLO weights/yolov8n.pt\")\n",
    "\n",
    "while True:\n",
    "    ret,img=cap.read()\n",
    "    results=model(img, stream=True)\n",
    "    \n",
    "    for r in results:\n",
    "        boxes=r.boxes\n",
    "        for box in boxes:\n",
    "            x1,y1,x2,y2=box.xyxy[0] #xywh can also be used\n",
    "            x1,y1,x2,y2=int(x1),int(y1),int(x2),int(y2)\n",
    "            cv2.rectangle(img,(x1,y1),(x2,y2),(255,0,255),3)\n",
    "            \n",
    "            conf=math.ceil(box.conf[0]*100)/100\n",
    "            classs=int(box.cls[0])\n",
    "            cv2.rectangle(img,(max(0,x1),max(40,y1)),(x1+300,y1-50),(0,255,255),cv2.FILLED)\n",
    "            cv2.putText(img,f'{conf} class No.:{classs}',(max(0,x1),max(40,y1)),cv2.FONT_HERSHEY_SIMPLEX,1,(255,0,0),3)\n",
    "            \n",
    "            \n",
    "    cv2.imshow(\"Img\",img)\n",
    "    if cv2.waitKey(1) & 0xFF==ord('q'):\n",
    "        break\n",
    "cap.release()\n",
    "cv2.destroyAllWindows()\n"
   ]
  },
  {
   "cell_type": "code",
   "execution_count": null,
   "id": "fad82f5f-9f12-424e-a7d5-d5589fe708a4",
   "metadata": {},
   "outputs": [],
   "source": []
  }
 ],
 "metadata": {
  "kernelspec": {
   "display_name": "yoloOD",
   "language": "python",
   "name": "yolood"
  },
  "language_info": {
   "codemirror_mode": {
    "name": "ipython",
    "version": 3
   },
   "file_extension": ".py",
   "mimetype": "text/x-python",
   "name": "python",
   "nbconvert_exporter": "python",
   "pygments_lexer": "ipython3",
   "version": "3.10.8"
  }
 },
 "nbformat": 4,
 "nbformat_minor": 5
}

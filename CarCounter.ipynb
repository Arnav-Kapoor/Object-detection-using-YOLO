{
 "cells": [
  {
   "cell_type": "code",
   "execution_count": 1,
   "id": "66ce1bad-ac90-4cb9-92da-0d91ce4a42ee",
   "metadata": {},
   "outputs": [],
   "source": [
    "from ultralytics import YOLO\n",
    "import cv2\n",
    "import numpy as np"
   ]
  },
  {
   "cell_type": "code",
   "execution_count": 2,
   "id": "7c26e582-ac0a-49cd-8dba-bfcdace125b3",
   "metadata": {},
   "outputs": [],
   "source": [
    "model=YOLO('./YOLO weights/yolov8n.pt')"
   ]
  },
  {
   "cell_type": "code",
   "execution_count": 51,
   "id": "3baadfee-6cbe-45ae-a768-aa55351f9e1f",
   "metadata": {},
   "outputs": [],
   "source": [
    "### creating mask for image \n",
    "\n",
    "blank=np.zeros((480,640),dtype=np.uint8)\n",
    "mask=cv2.rectangle(blank,(0,180),(640,320),(255,255,255),cv2.FILLED)\n"
   ]
  },
  {
   "cell_type": "code",
   "execution_count": 56,
   "id": "70f56543-73fb-4229-b600-d5de688daccb",
   "metadata": {},
   "outputs": [
    {
     "name": "stdout",
     "output_type": "stream",
     "text": [
      "No. of cars were  19\n"
     ]
    }
   ],
   "source": [
    "import math\n",
    "\n",
    "cap=cv2.VideoCapture('.\\images\\car_moving.mp4')\n",
    "\n",
    "counter=0\n",
    "\n",
    "while True:\n",
    "    ret,img=cap.read()\n",
    "    if ret:\n",
    "        img=cv2.resize(img,(640,480))\n",
    "        img_crop=cv2.bitwise_and(img,img,mask=mask) ##aplying mask \n",
    "        results=model(img_crop, stream=True,verbose=False)\n",
    "\n",
    "        for r in results:\n",
    "            boxes=r.boxes\n",
    "            for box in boxes:\n",
    "                x1,y1,x2,y2=box.xyxy[0] #xywh can also be used\n",
    "                x1,y1,x2,y2=int(x1),int(y1),int(x2),int(y2)\n",
    "\n",
    "\n",
    "                conf=math.ceil(box.conf[0]*100)/100\n",
    "                classs=int(box.cls[0])\n",
    "                if classs==2 and conf>0.3:\n",
    "                    ##left side cars\n",
    "                    if x1<=260:\n",
    "                        if (y2>=248 and y2<=250):\n",
    "                            counter+=1\n",
    "                        else:\n",
    "                            continue\n",
    "                    ##right side cars \n",
    "                    else:\n",
    "                        if(y1>=250 and y1<=252):\n",
    "                            counter+=1\n",
    "                        else:\n",
    "                            continue\n",
    "                    cv2.rectangle(img,(x1,y1),(x2,y2),(255,0,255),3)\n",
    "                    \n",
    "        cv2.rectangle(img,(0,20),(200,60),(255,100,100),cv2.FILLED)\n",
    "        cv2.putText(img,f'counter= {counter}',(0,50),cv2.FONT_HERSHEY_SIMPLEX,1,(0,0,200),3)\n",
    "\n",
    "        cv2.line(img,(0,250),(640,250),(0,220,0),2) ## line to be crossed\n",
    "        cv2.line(img,(260,180),(260,320),(0,220,0),2) ## dividing left and right\n",
    "        cv2.imshow(\"Img\",img_crop)\n",
    "        cv2.imshow(\"Original\",img)\n",
    "        if cv2.waitKey(1) & 0xFF==ord('q'):\n",
    "            break\n",
    "    else:\n",
    "        break\n",
    "cap.release()\n",
    "cv2.destroyAllWindows()\n",
    "\n",
    "print('No. of cars were ',counter)"
   ]
  },
  {
   "cell_type": "code",
   "execution_count": null,
   "id": "6f4e3695-fbbe-41c4-b9d0-76127b6a98ee",
   "metadata": {},
   "outputs": [],
   "source": []
  }
 ],
 "metadata": {
  "kernelspec": {
   "display_name": "yoloOD",
   "language": "python",
   "name": "yolood"
  },
  "language_info": {
   "codemirror_mode": {
    "name": "ipython",
    "version": 3
   },
   "file_extension": ".py",
   "mimetype": "text/x-python",
   "name": "python",
   "nbconvert_exporter": "python",
   "pygments_lexer": "ipython3",
   "version": "3.10.8"
  }
 },
 "nbformat": 4,
 "nbformat_minor": 5
}

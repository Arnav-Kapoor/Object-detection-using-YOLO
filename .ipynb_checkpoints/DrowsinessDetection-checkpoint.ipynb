{
 "cells": [
  {
   "cell_type": "code",
   "execution_count": 1,
   "id": "c8349535-0e05-4b5d-af0f-1f4763b50120",
   "metadata": {},
   "outputs": [],
   "source": [
    "from ultralytics import YOLO\n",
    "import cv2\n",
    "import numpy as np\n",
    "import matplotlib.pyplot as plt\n",
    "%matplotlib inline"
   ]
  },
  {
   "cell_type": "code",
   "execution_count": null,
   "id": "234f8ba3-7d09-4a81-8222-275a92fb4689",
   "metadata": {},
   "outputs": [],
   "source": [
    "# model=YOLO('./YOLO weights/yolov5su.pt') #small,medium,large"
   ]
  },
  {
   "cell_type": "code",
   "execution_count": 2,
   "id": "b2532060-3a4d-43ac-b011-830cc819ebbb",
   "metadata": {},
   "outputs": [],
   "source": [
    "import torch\n",
    "model=torch.hub.load('ultralytics/yolov5','yolov5s')"
   ]
  },
  {
   "cell_type": "code",
   "execution_count": null,
   "id": "9e164ce6-2793-459c-a1b6-65823f83720f",
   "metadata": {},
   "outputs": [],
   "source": [
    "img= cv2.imread('./images/bikes.jpg')\n",
    "# cv2.resize(img,(640,480))"
   ]
  },
  {
   "cell_type": "code",
   "execution_count": null,
   "id": "3db43ced-459c-4f9b-9a45-1d6765d9fbd8",
   "metadata": {},
   "outputs": [],
   "source": [
    "# while True:\n",
    "#     results2=model(img,show=True)\n",
    "#     if cv2.waitKey(0):\n",
    "#         break"
   ]
  },
  {
   "cell_type": "code",
   "execution_count": null,
   "id": "503fc0af-3433-4ee6-a98c-ef089de9c6fa",
   "metadata": {},
   "outputs": [],
   "source": [
    "results=model(img)\n",
    "results.print()"
   ]
  },
  {
   "cell_type": "code",
   "execution_count": null,
   "id": "68026fd9-386e-4727-a16e-8f9300ac729d",
   "metadata": {},
   "outputs": [],
   "source": [
    "%matplotlib inline\n",
    "plt.imshow(np.squeeze(results.render()))\n",
    "plt.show()"
   ]
  },
  {
   "cell_type": "code",
   "execution_count": null,
   "id": "48176d9a-cc23-4bab-9c5e-ba548798fc92",
   "metadata": {},
   "outputs": [],
   "source": [
    "# results.xyxy\n",
    "# results.show()\n",
    "# results.render()"
   ]
  },
  {
   "cell_type": "markdown",
   "id": "8e80f9f7-fdcc-4d1b-ad9a-ff3e4cfe834f",
   "metadata": {},
   "source": [
    "### realtime detections"
   ]
  },
  {
   "cell_type": "code",
   "execution_count": null,
   "id": "6cfcd7e6-5bf6-4b53-9468-13d2b42bfa4e",
   "metadata": {},
   "outputs": [],
   "source": [
    "cap=cv2.VideoCapture(0)\n",
    "\n",
    "while cap.isOpened():\n",
    "    ret,img=cap.read()\n",
    "    \n",
    "    results=model(img)\n",
    "    \n",
    "    cv2.imshow(\"img\",np.squeeze(results.render()))\n",
    "    \n",
    "    if cv2.waitKey(1) & 0xFF==ord('q'):\n",
    "        break\n",
    "cap.release()\n",
    "cv2.destroyAllWindows()"
   ]
  },
  {
   "cell_type": "markdown",
   "id": "ee257247-9f1a-42fd-9bef-6b4e9ebc39b7",
   "metadata": {},
   "source": [
    "#### collecting images"
   ]
  },
  {
   "cell_type": "code",
   "execution_count": null,
   "id": "c38073f9-6848-404a-85d2-ff0b5d49b873",
   "metadata": {},
   "outputs": [],
   "source": [
    "import uuid  #unique id\n",
    "import os\n",
    "import time"
   ]
  },
  {
   "cell_type": "code",
   "execution_count": null,
   "id": "db2777ee-4d37-4f7e-80d2-f849b856d5dc",
   "metadata": {},
   "outputs": [],
   "source": [
    "IMAGES_PATH=os.path.join('data','images')\n",
    "labels=['awake','drowsy']\n",
    "number_imgs=20"
   ]
  },
  {
   "cell_type": "code",
   "execution_count": null,
   "id": "cd47316a-69e9-4b82-bf69-90c0c4a167b0",
   "metadata": {},
   "outputs": [],
   "source": [
    "cap=cv2.VideoCapture(0)\n",
    "\n",
    "for label in labels:\n",
    "    print(\"Collecting images for {}\".format(label))\n",
    "    time.sleep(5)\n",
    "    \n",
    "    for i in range(20):\n",
    "        print(\"Collecting images for {}, image number {}\".format(label,i))\n",
    "        \n",
    "        ret,img=cap.read()\n",
    "        \n",
    "        imgname=os.path.join(IMAGES_PATH,label+'.'+str(uuid.uuid1())+'.jpg')\n",
    "        cv2.imwrite(imgname,img)\n",
    "        cv2.imshow(\"Image collection\",img)\n",
    "        time.sleep(2)\n",
    "        \n",
    "         \n",
    "    if cv2.waitKey(1) & 0xFF==ord('q'):\n",
    "        break\n",
    "cap.release()\n",
    "cv2.destroyAllWindows()"
   ]
  },
  {
   "cell_type": "code",
   "execution_count": null,
   "id": "1e8d64fd-6238-4da4-b5c9-096e9905b0a1",
   "metadata": {},
   "outputs": [],
   "source": [
    "!git clone https://github.com/heartexlabs/labelImg.git"
   ]
  },
  {
   "cell_type": "code",
   "execution_count": null,
   "id": "1bedd249-7a4d-4585-a01f-9c3a6846d52d",
   "metadata": {},
   "outputs": [],
   "source": [
    "####installing dependencies pyqt5 and lxml\n",
    "!pip install pyqt5 lxml \n",
    "#####initializing labelImg\n",
    "!cd labelImg && pyrcc5 -o libs/resources.py resources.qrc "
   ]
  },
  {
   "cell_type": "code",
   "execution_count": null,
   "id": "5e278d25-1bb0-4334-9790-6b0827f100bb",
   "metadata": {},
   "outputs": [],
   "source": [
    "!cd yolov5 && python train.py --img 320 --batch 32 --epochs 200 --data dataset.yaml --weights yolov5s.pt --workers 2"
   ]
  },
  {
   "cell_type": "markdown",
   "id": "9347077d-2d36-4518-ad10-b60766beca1b",
   "metadata": {},
   "source": [
    "### load custom model"
   ]
  },
  {
   "cell_type": "code",
   "execution_count": null,
   "id": "7a70405a-6107-4292-a229-48e3be5a0d72",
   "metadata": {},
   "outputs": [],
   "source": [
    "model=torch.hub.load(\"ultralytics/yolov5\", \"custom\", path=\"yolov5/runs/train/trained_on_colab/best.pt\", force_reload=True)"
   ]
  },
  {
   "cell_type": "code",
   "execution_count": null,
   "id": "62c4e5e6-369a-43c3-b261-b8be5f7fd304",
   "metadata": {},
   "outputs": [],
   "source": [
    "img='images/sleep.jpeg'"
   ]
  },
  {
   "cell_type": "code",
   "execution_count": null,
   "id": "eb88bc53-920f-4e2e-b76a-191f41a759d9",
   "metadata": {},
   "outputs": [],
   "source": [
    "results=model(img)"
   ]
  },
  {
   "cell_type": "code",
   "execution_count": null,
   "id": "a7e29229-e36f-4c81-bfe5-9aa37b098757",
   "metadata": {},
   "outputs": [],
   "source": [
    "results.print()"
   ]
  },
  {
   "cell_type": "code",
   "execution_count": null,
   "id": "3a67a910-9854-4398-a74c-3f041b2d255f",
   "metadata": {},
   "outputs": [],
   "source": [
    "%matplotlib inline\n",
    "plt.imshow(np.squeeze(results.render()))\n",
    "plt.show()"
   ]
  },
  {
   "cell_type": "code",
   "execution_count": null,
   "id": "a1ef44df-583f-4195-8cd2-dc21228130a3",
   "metadata": {},
   "outputs": [],
   "source": [
    "cap=cv2.VideoCapture(0)\n",
    "\n",
    "while cap.isOpened():\n",
    "    ret,img=cap.read()\n",
    "    results=model(img)\n",
    "    \n",
    "    cv2.imshow(\"img\",np.squeeze(results.render()))\n",
    "    \n",
    "    if cv2.waitKey(10) & 0xFF==ord('q'):\n",
    "        break\n",
    "cap.release()\n",
    "cv2.destroyAllWindows()"
   ]
  },
  {
   "cell_type": "markdown",
   "id": "d1effc03-d2c7-435a-a7a5-9d184f956a97",
   "metadata": {},
   "source": [
    "## Using YOLOv8"
   ]
  },
  {
   "cell_type": "code",
   "execution_count": null,
   "id": "4922ea76-e3f5-47ab-8ace-e0fc0182627e",
   "metadata": {},
   "outputs": [],
   "source": [
    "!git clone https://github.com/ultralytics/ultralytics.git"
   ]
  },
  {
   "cell_type": "code",
   "execution_count": null,
   "id": "78f2c549-854a-4c13-8231-f2d201eaaecf",
   "metadata": {},
   "outputs": [],
   "source": [
    "!cd ultralytics && pip install -e ."
   ]
  },
  {
   "cell_type": "code",
   "execution_count": null,
   "id": "326191b0-ce3d-4867-af45-2bee6832ac7c",
   "metadata": {},
   "outputs": [],
   "source": [
    "!yolo task=detect mode=predict model=yolov8n.pt source=\"images/bikes.jpg\" project=\"yolov8_saves\""
   ]
  },
  {
   "cell_type": "markdown",
   "id": "1e01efbe-96cf-4c6f-b36d-2395f15eee7a",
   "metadata": {},
   "source": [
    "### using yolov8 for custom training"
   ]
  },
  {
   "cell_type": "code",
   "execution_count": null,
   "id": "785fbf4d-9041-4fc8-b5a4-8a24f4377ccd",
   "metadata": {},
   "outputs": [],
   "source": [
    "!yolo task=detect mode=train model=yolov8n.pt data=\".\\ultralytics\\custom.yaml\" epochs=200 batch=32 imgsz=640 project=yolov8_saves name=customModel"
   ]
  },
  {
   "cell_type": "code",
   "execution_count": 9,
   "id": "229abc1a-9a32-4906-a6ba-649876714e10",
   "metadata": {},
   "outputs": [],
   "source": [
    "# !yolo task=detect mode=predict model=\"yolov8_saves/trained_on_colab/last.pt\" source=\"0\" project=yolov8_saves name=customModel show=True"
   ]
  },
  {
   "cell_type": "code",
   "execution_count": null,
   "id": "4816b9bb-31fb-4f91-b3e6-7ded198d25d2",
   "metadata": {},
   "outputs": [],
   "source": []
  },
  {
   "cell_type": "code",
   "execution_count": 4,
   "id": "f12a470a-b06b-463f-8c3f-e2064fe8fd9f",
   "metadata": {},
   "outputs": [],
   "source": [
    "# !pip install --upgrade ultralytics"
   ]
  },
  {
   "cell_type": "code",
   "execution_count": 3,
   "id": "ae81b47d-70e9-4b76-aabf-af7dab86453c",
   "metadata": {},
   "outputs": [],
   "source": [
    "model=YOLO(\"yolov8_saves/trained_on_colab/last.pt\")"
   ]
  },
  {
   "cell_type": "code",
   "execution_count": 8,
   "id": "5e4343c1-07f5-4da2-82b6-80203ed88736",
   "metadata": {},
   "outputs": [],
   "source": [
    "import math\n",
    "\n",
    "cap=cv2.VideoCapture(0)\n",
    "\n",
    "while cap.isOpened():\n",
    "    ret,img=cap.read()\n",
    "    results=model(img,stream=True,verbose=False)\n",
    "    \n",
    "    for r in results:\n",
    "        boxes=r.boxes\n",
    "        for box in boxes:\n",
    "            x1,y1,x2,y2=box.xyxy[0] #xywh can also be used\n",
    "            x1,y1,x2,y2=int(x1),int(y1),int(x2),int(y2)\n",
    "            cv2.rectangle(img,(x1,y1),(x2,y2),(255,0,255),3)\n",
    "            \n",
    "            conf=math.ceil(box.conf[0]*100)/100\n",
    "            classs=int(box.cls[0])\n",
    "            if classs==15 or classs==16:\n",
    "                if classs==15:\n",
    "                    className=\"Awake\"\n",
    "                else:\n",
    "                    className=\"Drowsy\"\n",
    "                cv2.rectangle(img,(max(0,x1),max(40,y1)),(x1+300,y1-50),(0,255,255),cv2.FILLED)\n",
    "                cv2.putText(img,f'{className}: {conf}',(max(0,x1),max(40,y1)),cv2.FONT_HERSHEY_SIMPLEX,1,(255,0,0),3)\n",
    "    \n",
    "    cv2.imshow(\"img\",img)\n",
    "    \n",
    "    if cv2.waitKey(10) & 0xFF==ord('q'):\n",
    "        break\n",
    "cap.release()\n",
    "cv2.destroyAllWindows()"
   ]
  },
  {
   "cell_type": "code",
   "execution_count": null,
   "id": "b23275a9-a19f-46d4-8641-d5c2c9fd67f7",
   "metadata": {},
   "outputs": [],
   "source": []
  }
 ],
 "metadata": {
  "kernelspec": {
   "display_name": "yoloOD",
   "language": "python",
   "name": "yolood"
  },
  "language_info": {
   "codemirror_mode": {
    "name": "ipython",
    "version": 3
   },
   "file_extension": ".py",
   "mimetype": "text/x-python",
   "name": "python",
   "nbconvert_exporter": "python",
   "pygments_lexer": "ipython3",
   "version": "3.10.8"
  }
 },
 "nbformat": 4,
 "nbformat_minor": 5
}

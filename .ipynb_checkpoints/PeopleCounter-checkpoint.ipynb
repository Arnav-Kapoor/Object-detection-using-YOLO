{
 "cells": [
  {
   "cell_type": "code",
   "execution_count": 1,
   "id": "5ac2a4a2-96ad-40f4-9787-7d9068a38bed",
   "metadata": {},
   "outputs": [],
   "source": [
    "from ultralytics import YOLO\n",
    "import cv2\n",
    "import numpy as np"
   ]
  },
  {
   "cell_type": "code",
   "execution_count": 2,
   "id": "6debc7f1-32af-4bbb-9ed6-68987651ce4e",
   "metadata": {},
   "outputs": [],
   "source": [
    "model=YOLO('./YOLO weights/yolov8n.pt')"
   ]
  },
  {
   "cell_type": "code",
   "execution_count": 63,
   "id": "d3435ee8-dbc7-4661-8a60-e52262aaf574",
   "metadata": {},
   "outputs": [],
   "source": [
    "blank=np.zeros((480,640),dtype='uint8')\n",
    "mask=cv2.rectangle(blank,(100,100),(440,480),(255,255,255),cv2.FILLED)\n",
    "# cv2.imshow(\"mask\",mask)\n",
    "# cv2.waitKey(0)"
   ]
  },
  {
   "cell_type": "code",
   "execution_count": 64,
   "id": "2d029475-4f28-4c2d-8c2f-335afd245f80",
   "metadata": {},
   "outputs": [
    {
     "name": "stdout",
     "output_type": "stream",
     "text": [
      "left people:  2 \n",
      "right people:  5\n"
     ]
    }
   ],
   "source": [
    "import math\n",
    "\n",
    "cap=cv2.VideoCapture(\"./images/people_walking_on_escalator.mp4\")\n",
    "\n",
    "left=0\n",
    "right=0\n",
    "\n",
    "while True:\n",
    "    ret,img=cap.read()\n",
    "    if ret:\n",
    "        img=cv2.resize(img,(640,480))\n",
    "        img_crop=cv2.bitwise_and(img,img,mask=mask)\n",
    "        results=model(img_crop,stream=True,verbose=False)\n",
    "        \n",
    "        for r in results:\n",
    "            boxes=r.boxes\n",
    "            for box in boxes:\n",
    "                x1,y1,x2,y2=box.xyxy[0]\n",
    "                x1,y1,x2,y2=int(x1),int(y1),int(x2),int(y2)\n",
    "                \n",
    "                classs=int(box.cls[0])\n",
    "                conf=math.ceil(box.conf[0]*100)/100\n",
    "                \n",
    "                if classs==0:\n",
    "                    if x1<=300:\n",
    "                        if (y2>=238 and y2<=241):\n",
    "                            left+=1\n",
    "                        else:\n",
    "                            continue\n",
    "                    elif x2>=360:\n",
    "                        if (y2>=239 and y2<=242):\n",
    "                            right+=1\n",
    "                    else:\n",
    "                        continue\n",
    "                    cv2.rectangle(img,(x1,y1),(x2,y2),(0,0,255),2)\n",
    "        \n",
    "        \n",
    "        \n",
    "        #left escalator\n",
    "        cv2.line(img,(180,240),(250,240),(255,0,0),2) #horizontal\n",
    "        cv2.line(img,(250,0),(250,480),(255,0,0),2) #vertical\n",
    "        \n",
    "        #right escalator\n",
    "        cv2.line(img,(360,240),(420,240),(255,0,0),2) #horizontal\n",
    "        cv2.line(img,(360,0),(360,480),(255,0,0),2) #vertical\n",
    "        \n",
    "        cv2.putText(img,f'left: {left}',(180,440),cv2.FONT_HERSHEY_COMPLEX,1,(0,200,200),2)\n",
    "        cv2.putText(img,f'right: {right}',(360,440),cv2.FONT_HERSHEY_COMPLEX,1,(0,200,200),2)\n",
    "        \n",
    "        cv2.imshow(\"img\",img)\n",
    "        cv2.imshow(\"mask\",img_crop)\n",
    "        if cv2.waitKey(1) & 0xFF==ord('q'):\n",
    "            break\n",
    "    else:\n",
    "        break\n",
    "        \n",
    "cap.release()\n",
    "cv2.destroyAllWindows()\n",
    "    \n",
    "print(\"left people: \",left,\"\\nright people: \",right)"
   ]
  },
  {
   "cell_type": "code",
   "execution_count": null,
   "id": "f6956883-e1de-4e35-8682-20478523169c",
   "metadata": {},
   "outputs": [],
   "source": []
  }
 ],
 "metadata": {
  "kernelspec": {
   "display_name": "yoloOD",
   "language": "python",
   "name": "yolood"
  },
  "language_info": {
   "codemirror_mode": {
    "name": "ipython",
    "version": 3
   },
   "file_extension": ".py",
   "mimetype": "text/x-python",
   "name": "python",
   "nbconvert_exporter": "python",
   "pygments_lexer": "ipython3",
   "version": "3.10.8"
  }
 },
 "nbformat": 4,
 "nbformat_minor": 5
}
